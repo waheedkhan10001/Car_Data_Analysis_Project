{
 "cells": [
  {
   "cell_type": "markdown",
   "id": "ce82f574-a29a-4d33-b9c5-1f1082845bcf",
   "metadata": {},
   "source": [
    "this is a practice notebook"
   ]
  }
 ],
 "metadata": {
  "kernelspec": {
   "display_name": "Python 3 (ipykernel)",
   "language": "python",
   "name": "python3"
  },
  "language_info": {
   "codemirror_mode": {
    "name": "ipython",
    "version": 3
   },
   "file_extension": ".py",
   "mimetype": "text/x-python",
   "name": "python",
   "nbconvert_exporter": "python",
   "pygments_lexer": "ipython3",
   "version": "3.14.0"
  }
 },
 "nbformat": 4,
 "nbformat_minor": 5
}
