{
 "cells": [
  {
   "cell_type": "code",
   "execution_count": null,
   "id": "ec75b8ad-a828-4c37-acdc-7b2487bb81c4",
   "metadata": {},
   "outputs": [],
   "source": [
    "import pandas as pd\n",
    "import matplotlib.pyplot as plt\n",
    "import seaborn as sns"
   ]
  },
  {
   "cell_type": "code",
   "execution_count": null,
   "id": "e26ca14f-444b-4c62-90c4-fad2bc8ce3ba",
   "metadata": {},
   "outputs": [],
   "source": [
    "df=pd.read_csv(\"CAR_DETAILS.csv\")"
   ]
  },
  {
   "cell_type": "code",
   "execution_count": null,
   "id": "2e747d49-4074-41c5-9e62-6f158d1af561",
   "metadata": {},
   "outputs": [],
   "source": [
    "df.head()"
   ]
  },
  {
   "cell_type": "code",
   "execution_count": null,
   "id": "306d078c-d5b1-4dec-a0a0-0f5e6f3383a7",
   "metadata": {},
   "outputs": [],
   "source": [
    "df.shape"
   ]
  },
  {
   "cell_type": "code",
   "execution_count": null,
   "id": "59a8a44c-0aa4-465d-b888-177f1948a07d",
   "metadata": {},
   "outputs": [],
   "source": [
    "df.info()"
   ]
  },
  {
   "cell_type": "code",
   "execution_count": null,
   "id": "8400ee0e-ecf9-48fc-8194-c236f0db9b76",
   "metadata": {},
   "outputs": [],
   "source": [
    "df.describe()"
   ]
  },
  {
   "cell_type": "code",
   "execution_count": null,
   "id": "b8ca0f6c-19d1-4810-b5bb-3121aa7f0b7a",
   "metadata": {
    "scrolled": true
   },
   "outputs": [],
   "source": [
    "plt.scatter(df['year'],df['selling_price'],alpha=0.5)\n",
    "plt.xlabel('Year')\n",
    "plt.ylabel('Selling Price')\n",
    "plt.title('Car Price vs Model Year')\n",
    "plt.ticklabel_format(style='plain', axis='y')\n",
    "plt.show()"
   ]
  },
  {
   "cell_type": "markdown",
   "id": "3ed365ee-0f92-41b2-bed9-b6f8624c189c",
   "metadata": {},
   "source": [
    "Older models are cheaper as more depreciation has occured\n",
    "Some outliers show rare or luxury older models\n",
    "major chunk of cars is priced under 20 lacs\n",
    "models range from 1992 to 2020"
   ]
  },
  {
   "cell_type": "code",
   "execution_count": null,
   "id": "6c885de6-2c44-45de-9762-3f173b1565de",
   "metadata": {},
   "outputs": [],
   "source": [
    "plt.figure(figsize=(8,5))"
   ]
  },
  {
   "cell_type": "code",
   "execution_count": null,
   "id": "90a77396-cd31-4f22-842a-39d29eac0f1b",
   "metadata": {},
   "outputs": [],
   "source": [
    "sns.boxplot(x='fuel',y='selling_price',data=df)\n",
    "plt.ticklabel_format(style='plain', axis='y')\n",
    "plt.title('Selling Price by Fuel Type')\n",
    "plt.xlabel('Fuel')\n",
    "plt.ylabel('Selling Price')"
   ]
  },
  {
   "cell_type": "markdown",
   "id": "4d6d903d-1719-414f-ac5d-b24ebff37058",
   "metadata": {},
   "source": [
    "Petrol and diesl cars spread over wide spectrum\n",
    "rest of the fuels remain towards lower pricing due to may be lower resale value\n",
    "Diesel cars have higher median prices"
   ]
  },
  {
   "cell_type": "code",
   "execution_count": null,
   "id": "e23f0968-a6bd-4197-a940-41c7cf9b883a",
   "metadata": {},
   "outputs": [],
   "source": [
    "df.groupby('fuel').size()"
   ]
  },
  {
   "cell_type": "code",
   "execution_count": null,
   "id": "5e4d94f1-b89a-4aa1-b8c0-9a17944c9f06",
   "metadata": {},
   "outputs": [],
   "source": [
    "order=df.groupby('fuel')['selling_price'].mean().sort_values(ascending=False).index"
   ]
  },
  {
   "cell_type": "code",
   "execution_count": null,
   "id": "818961a4-fbc8-4415-84ce-0ab36a8c1edf",
   "metadata": {},
   "outputs": [],
   "source": [
    "\n",
    "sns.barplot(x='fuel',y='selling_price',data=df,estimator=\"mean\",order=order)\n",
    "plt.xlabel('Fuel')\n",
    "plt.ylabel('Average Selling Price')\n",
    "plt.show()"
   ]
  },
  {
   "cell_type": "markdown",
   "id": "bc73113f-5e42-4b7e-b9f5-d985196fbf08",
   "metadata": {},
   "source": [
    "Average selling price of diesel cars is highest above 600000 and LPG lowest under 200000\n"
   ]
  },
  {
   "cell_type": "code",
   "execution_count": null,
   "id": "807b9426-e655-4ebc-a2b6-d8d76203b005",
   "metadata": {},
   "outputs": [],
   "source": [
    "order=df.groupby('transmission')['selling_price'].mean().sort_values(ascending=False).index"
   ]
  },
  {
   "cell_type": "code",
   "execution_count": null,
   "id": "1de8b74d-e53c-4f49-9321-e60a7da957ee",
   "metadata": {
    "scrolled": true
   },
   "outputs": [],
   "source": [
    "sns.boxplot(x='transmission', y='selling_price', data=df, order=order)\n",
    "plt.title('Selling Price by Transmission Type')\n",
    "plt.xlabel('Transmission')\n",
    "plt.ylabel('Selling Price')"
   ]
  },
  {
   "cell_type": "markdown",
   "id": "f909cc10-01f2-4512-8eca-1d6cf4925021",
   "metadata": {},
   "source": [
    "Automatic transmission sells for higher price on average\n",
    "Manual transmission sells for lower prices on average\n",
    "Outliers show expensive manual cars"
   ]
  },
  {
   "cell_type": "code",
   "execution_count": null,
   "id": "1a1ee87e-0abb-421f-9948-14278ee851ac",
   "metadata": {},
   "outputs": [],
   "source": [
    "df['owner'].value_counts()"
   ]
  },
  {
   "cell_type": "code",
   "execution_count": null,
   "id": "40fa8813-38c6-4855-9c79-849a6996d20f",
   "metadata": {},
   "outputs": [],
   "source": [
    "order=df.groupby('owner')['selling_price'].mean().sort_values(ascending=False).index"
   ]
  },
  {
   "cell_type": "code",
   "execution_count": null,
   "id": "798881a8-a511-464b-8891-d394837ba5ef",
   "metadata": {},
   "outputs": [],
   "source": [
    "sns.boxplot(x='owner', y='selling_price', data=df, order=order)\n",
    "plt.title('Selling Price by Owner Type')\n",
    "plt.xlabel('Owner')\n",
    "plt.xticks(rotation=45)\n",
    "plt.ylabel('Average Selling Price')"
   ]
  },
  {
   "cell_type": "markdown",
   "id": "61084694-94c9-43e5-b0be-2f093a85bd58",
   "metadata": {},
   "source": [
    "Test drive cars had highest average selling price\n",
    "while oldest fourth or above owners prices were the lowest on average"
   ]
  },
  {
   "cell_type": "code",
   "execution_count": null,
   "id": "df5e599f-252e-4de0-9ba3-ba4b6838633f",
   "metadata": {},
   "outputs": [],
   "source": [
    "plt.figure(figsize=(8,5))\n",
    "plt.scatter(df['km_driven'],df['selling_price'], alpha=0.5)\n",
    "plt.ticklabel_format(style='plain', axis='y')\n",
    "plt.title('Selling Price vs KMs Driven')\n",
    "plt.xlabel('KMs Driven')\n",
    "plt.ylabel('Selling Price')\n",
    "sns.regplot(x='km_driven', y='selling_price', data=df, scatter_kws={'alpha':0.5}, line_kws={'color':'red'})"
   ]
  },
  {
   "cell_type": "markdown",
   "id": "a2ea3337-ed38-47e5-a33e-64e9794344c3",
   "metadata": {},
   "source": [
    "This chart simply tells us lower the running higher the selling price is."
   ]
  },
  {
   "cell_type": "code",
   "execution_count": null,
   "id": "7147a67a-e53e-4722-b7e1-f15bcb7fbf48",
   "metadata": {},
   "outputs": [],
   "source": [
    "plt.figure(figsize=(8,5))\n",
    "plt.scatter(df['year'],df['selling_price'], alpha=0.5)\n",
    "plt.ticklabel_format(style='plain', axis='y')\n",
    "plt.title('Selling Price vs Year')\n",
    "plt.xlabel('Year')\n",
    "plt.ylabel('Selling Price')\n",
    "ax=sns.regplot(x='year', y='selling_price', data=df, scatter_kws={'alpha':0.5}, line_kws={'color':'red'})\n",
    "ax.set_title('Selling Price vs Year')\n",
    "ax.set_xlabel('Year')\n",
    "ax.set_ylabel('Selling Price')"
   ]
  },
  {
   "cell_type": "markdown",
   "id": "d3eb5bce-2a79-47e6-bb53-c623a4904300",
   "metadata": {},
   "source": [
    "Newer model sell for higher prices"
   ]
  },
  {
   "cell_type": "code",
   "execution_count": null,
   "id": "3340e5ba-4398-4139-9c87-55c54d86a9d3",
   "metadata": {},
   "outputs": [],
   "source": [
    "order=df.groupby('fuel')['km_driven'].mean().sort_values(ascending=False).index"
   ]
  },
  {
   "cell_type": "code",
   "execution_count": null,
   "id": "761d0c00-2c32-47be-843e-d70492025212",
   "metadata": {},
   "outputs": [],
   "source": [
    "ax=sns.boxplot(x='fuel', y='km_driven', data=df, order=order)\n",
    "ax.set_xlabel('Fuel')\n",
    "ax.set_ylabel('KMs Driven')\n",
    "ax.set_title('KMs Driven vs Fuel')\n",
    "plt.xticks(rotation=45)\n",
    "df['fuel'].value_counts()"
   ]
  },
  {
   "cell_type": "markdown",
   "id": "5b53111c-390e-466a-a2a3-83f58f8169fd",
   "metadata": {},
   "source": [
    "Generally diesel cars are driven more than any other\n",
    "LPG average running appear higher in chart because there are only 23 LPG cars\n",
    "and only 1 electric car and CNG only 40 cars\n",
    "so I would say only this with confidence that diesel cars are definitly driven more than petrol cars\n",
    "rest of the fuel types being few in number, it cant be concluded with confidence"
   ]
  }
 ],
 "metadata": {
  "kernelspec": {
   "display_name": "Python 3 (ipykernel)",
   "language": "python",
   "name": "python3"
  },
  "language_info": {
   "codemirror_mode": {
    "name": "ipython",
    "version": 3
   },
   "file_extension": ".py",
   "mimetype": "text/x-python",
   "name": "python",
   "nbconvert_exporter": "python",
   "pygments_lexer": "ipython3",
   "version": "3.14.0"
  }
 },
 "nbformat": 4,
 "nbformat_minor": 5
}
