{
 "cells": [
  {
   "cell_type": "markdown",
   "id": "21ce6578-0ffb-4dbc-a0c3-fcccc639a39c",
   "metadata": {},
   "source": [
    "This is my practice notebook"
   ]
  },
  {
   "cell_type": "code",
   "execution_count": null,
   "id": "f624fcae-488d-46e7-9df1-7be3cde9fb47",
   "metadata": {},
   "outputs": [],
   "source": []
  }
 ],
 "metadata": {
  "kernelspec": {
   "display_name": "Python 3 (ipykernel)",
   "language": "python",
   "name": "python3"
  },
  "language_info": {
   "codemirror_mode": {
    "name": "ipython",
    "version": 3
   },
   "file_extension": ".py",
   "mimetype": "text/x-python",
   "name": "python",
   "nbconvert_exporter": "python",
   "pygments_lexer": "ipython3",
   "version": "3.14.0"
  }
 },
 "nbformat": 4,
 "nbformat_minor": 5
}
